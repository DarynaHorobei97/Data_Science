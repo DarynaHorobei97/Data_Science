{
 "cells": [
  {
   "cell_type": "code",
   "execution_count": 15,
   "id": "a235889f-da70-49ef-9ce8-db3f68ba8cef",
   "metadata": {},
   "outputs": [],
   "source": [
    "class Vehicle:\n",
    "    type: None\n",
    "    max_speed: None\n",
    "    mileage: None\n",
    "\n",
    "    def __init__(self, type, max_speed, mileage):\n",
    "        self.type = str(type)\n",
    "        self.max_speed = float(max_speed)\n",
    "        self.mileage = int(mileage)\n",
    "\n",
    "    def description(self):\n",
    "        print('Vehicle type is:', self.type, ', ' 'max speed is:', self.max_speed, 'km/h , ' 'mileage is:', self. mileage, 'km')\n",
    "\n",
    "    def rent(self, passenger_capacity):\n",
    "        return passenger_capacity**2\n",
    "\n",
    "    def drive(self, delta_mileage):\n",
    "        if delta_mileage > 0:\n",
    "            self.mileage += delta_mileage\n",
    "\n",
    "    def service_alert(self):\n",
    "        if self.mileage < 10000:\n",
    "            print('No Service Required!')\n",
    "        elif self.mileage%10000 == 0:\n",
    "            numberOfMessages = int(self.mileage/10000)\n",
    "            print('Service Required!'*numberOfMessages)\n",
    "        else: print('Service Required!')"
   ]
  },
  {
   "cell_type": "code",
   "execution_count": 16,
   "id": "e2083709-5002-414c-b25b-1750b4d2eb0e",
   "metadata": {},
   "outputs": [],
   "source": [
    "class Bus(Vehicle):\n",
    "    \n",
    "    def __init__(self, type, max_speed, mileage, passenger_capacity = 50):\n",
    "        super(Bus, self).__init__(type, max_speed, mileage)\n",
    "        self.passenger_capacity = passenger_capacity\n",
    "\n",
    "    def description(self):\n",
    "        return super().description(), print('Passenger capacity is', self.passenger_capacity)\n",
    "\n",
    "    def rent(self, passenger_capacity):\n",
    "        if self.passenger_capacity > 10:\n",
    "            base_rent = super().rent(passenger_capacity)\n",
    "            base_rent *= 1.1\n",
    "            print('Rent is', round(base_rent, 2))"
   ]
  },
  {
   "cell_type": "code",
   "execution_count": 17,
   "id": "4be033a0-7616-4cca-bf17-2edc6b5f9ef2",
   "metadata": {},
   "outputs": [],
   "source": [
    "class Auto(Vehicle):\n",
    "\n",
    "    def __init__(self, type, max_speed, mileage):\n",
    "        super(Auto, self).__init__(type, max_speed, mileage)\n",
    "        self.color = 'white'\n",
    "\n",
    "    def description(self):\n",
    "        return super().description(), print('Color is', self.color)"
   ]
  },
  {
   "cell_type": "code",
   "execution_count": 18,
   "id": "a5ea0eea-bc56-4010-a63d-54256db65f44",
   "metadata": {},
   "outputs": [
    {
     "name": "stdout",
     "output_type": "stream",
     "text": [
      "Rent is 3960.0\n",
      "Service Required!Service Required!Service Required!Service Required!Service Required!\n",
      "Vehicle type is: Mersedes , max speed is: 90.0 km/h , mileage is: 50000 km\n",
      "Passenger capacity is 60\n",
      "Vehicle type is: Mersedes , max speed is: 90.0 km/h , mileage is: 50011 km\n",
      "Passenger capacity is 60\n",
      "Rent is 2750.0\n",
      "Vehicle type is: Sprinter , max speed is: 100.0 km/h , mileage is: 80000 km\n",
      "Passenger capacity is 50\n",
      "///////////////////////\n",
      "Rent is 16\n",
      "Vehicle type is: Audi , max speed is: 120.0 km/h , mileage is: 150000 km\n",
      "Color is white\n",
      "Vehicle type is: Audi , max speed is: 120.0 km/h , mileage is: 150011 km\n",
      "Color is white\n",
      "///////////////////////\n",
      "Rent is 64\n",
      "Vehicle type is: Toyota , max speed is: 110.0 km/h , mileage is: 10000 km\n",
      "Vehicle type is: Toyota , max speed is: 110.0 km/h , mileage is: 10007 km\n"
     ]
    }
   ],
   "source": [
    "bus1 = Bus('Mersedes', 90, 50000, 60)\n",
    "bus1.rent(bus1.passenger_capacity)\n",
    "bus1.service_alert()\n",
    "bus1.description()\n",
    "bus1.drive(11)\n",
    "bus1.description()\n",
    "\n",
    "bus2 = Bus('Sprinter', 100, 80000)\n",
    "bus2.rent(bus2.passenger_capacity)\n",
    "bus2.description()\n",
    "print('///////////////////////')\n",
    "\n",
    "auto = Auto('Audi', 120, 150000)\n",
    "print('Rent is', auto.rent(4))\n",
    "auto.description()\n",
    "auto.drive(11)\n",
    "auto.description()\n",
    "\n",
    "print('///////////////////////')\n",
    "vehicle = Vehicle('Toyota', 110, 10000)\n",
    "print('Rent is', vehicle.rent(8))\n",
    "vehicle.description()\n",
    "vehicle.drive(7)\n",
    "vehicle.description()"
   ]
  }
 ],
 "metadata": {
  "kernelspec": {
   "display_name": "Python 3 (ipykernel)",
   "language": "python",
   "name": "python3"
  },
  "language_info": {
   "codemirror_mode": {
    "name": "ipython",
    "version": 3
   },
   "file_extension": ".py",
   "mimetype": "text/x-python",
   "name": "python",
   "nbconvert_exporter": "python",
   "pygments_lexer": "ipython3",
   "version": "3.11.7"
  }
 },
 "nbformat": 4,
 "nbformat_minor": 5
}
