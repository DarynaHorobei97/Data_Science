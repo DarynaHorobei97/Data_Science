{
 "cells": [
  {
   "cell_type": "code",
   "execution_count": 205,
   "id": "9bf71888-4f40-4bd0-b89c-6fcac1fe7396",
   "metadata": {},
   "outputs": [
    {
     "name": "stdin",
     "output_type": "stream",
     "text": [
      " 10\n"
     ]
    }
   ],
   "source": [
    "N = int(input())\n",
    "\n",
    "def square(N):\n",
    "    list1 = []\n",
    "    list2 = []\n",
    "    if N > 0:\n",
    "        for n in range(1, N+1): \n",
    "            list1.append(n)\n",
    "        for item in list1:\n",
    "            list2.append(item**2)\n",
    "        return list2\n",
    "    else:\n",
    "        print('Enter number > 0')"
   ]
  },
  {
   "cell_type": "code",
   "execution_count": 207,
   "id": "38d23af8-3b79-4872-a5d4-7d8245c66093",
   "metadata": {},
   "outputs": [
    {
     "name": "stdout",
     "output_type": "stream",
     "text": [
      "[1, 4, 9, 16, 25, 36, 49, 64, 81, 100]\n"
     ]
    }
   ],
   "source": [
    "print(square(N))"
   ]
  },
  {
   "cell_type": "code",
   "execution_count": 208,
   "id": "20b9fd8a-3f72-41a8-95e8-168a9ffb965d",
   "metadata": {},
   "outputs": [],
   "source": [
    "def square(item):\n",
    "    return item**2"
   ]
  },
  {
   "cell_type": "code",
   "execution_count": 209,
   "id": "d2b6497b-5e47-496f-97e2-60f49f37952e",
   "metadata": {},
   "outputs": [
    {
     "name": "stdout",
     "output_type": "stream",
     "text": [
      "[1, 4, 9, 16, 25, 36, 49, 64, 81, 100]\n"
     ]
    }
   ],
   "source": [
    "print(list(map(square, range(1, N+1))))"
   ]
  },
  {
   "cell_type": "code",
   "execution_count": 210,
   "id": "f1650d27-9868-4a5a-bb3b-e13596fda089",
   "metadata": {},
   "outputs": [
    {
     "data": {
      "text/plain": [
       "[1, 4, 9, 16, 25, 36, 49, 64, 81, 100]"
      ]
     },
     "execution_count": 210,
     "metadata": {},
     "output_type": "execute_result"
    }
   ],
   "source": [
    "list2 = [item**2 for item in list(range(1, N+1))]\n",
    "list2"
   ]
  },
  {
   "cell_type": "code",
   "execution_count": 211,
   "id": "2e04f93a-0d65-46ca-b412-a22a2fa7419e",
   "metadata": {},
   "outputs": [],
   "source": [
    "def square(N):\n",
    "    list1 = []\n",
    "    list2 = []\n",
    "    for n in range(1, N+1): \n",
    "        list1.append(n)\n",
    "    for item in list1:\n",
    "        if item**0.5 % 1 == 0:\n",
    "            list2.append(item)\n",
    "    return list2"
   ]
  },
  {
   "cell_type": "code",
   "execution_count": 212,
   "id": "69db5d15-40ec-4a78-aa05-cd0b5d0ae3ec",
   "metadata": {},
   "outputs": [
    {
     "name": "stdout",
     "output_type": "stream",
     "text": [
      "[1, 4, 9]\n"
     ]
    }
   ],
   "source": [
    "print(square(N))"
   ]
  },
  {
   "cell_type": "code",
   "execution_count": 213,
   "id": "8f10c116-f94a-4e4c-a0e1-8e312506f576",
   "metadata": {},
   "outputs": [],
   "source": [
    "N = 4\n",
    "a = 2\n",
    "b = 5\n",
    "does_range_contain_N = lambda N, a, b: N > a and N < b"
   ]
  },
  {
   "cell_type": "code",
   "execution_count": 185,
   "id": "230fb947-d31c-4cca-8015-fa0d8f86796e",
   "metadata": {},
   "outputs": [
    {
     "name": "stdout",
     "output_type": "stream",
     "text": [
      "True\n"
     ]
    }
   ],
   "source": [
    "print(does_range_contain_N(N, a, b))"
   ]
  },
  {
   "cell_type": "code",
   "execution_count": null,
   "id": "600dddd7-7827-432b-8d80-955088241744",
   "metadata": {},
   "outputs": [],
   "source": []
  }
 ],
 "metadata": {
  "kernelspec": {
   "display_name": "Python 3 (ipykernel)",
   "language": "python",
   "name": "python3"
  },
  "language_info": {
   "codemirror_mode": {
    "name": "ipython",
    "version": 3
   },
   "file_extension": ".py",
   "mimetype": "text/x-python",
   "name": "python",
   "nbconvert_exporter": "python",
   "pygments_lexer": "ipython3",
   "version": "3.11.7"
  }
 },
 "nbformat": 4,
 "nbformat_minor": 5
}
