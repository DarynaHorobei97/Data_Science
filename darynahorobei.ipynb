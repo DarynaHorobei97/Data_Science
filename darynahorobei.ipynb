{
 "cells": [
  {
   "cell_type": "code",
   "execution_count": 1,
   "id": "f988bc2c-0ec8-4294-b2b5-b84235820941",
   "metadata": {},
   "outputs": [
    {
     "name": "stdin",
     "output_type": "stream",
     "text": [
      "Number 1:  54.1\n",
      "Number 2:  8\n"
     ]
    },
    {
     "name": "stdout",
     "output_type": "stream",
     "text": [
      "Sum =  62.1\n"
     ]
    }
   ],
   "source": [
    "var1 = input('Number 1: ')\n",
    "var2 = input('Number 2: ')\n",
    "sum = float(var1) + float(var2)\n",
    "print('Sum = ', sum)"
   ]
  },
  {
   "cell_type": "code",
   "execution_count": 3,
   "id": "e18ec6d4-4237-4acf-bf59-65861496c8a7",
   "metadata": {},
   "outputs": [
    {
     "name": "stdin",
     "output_type": "stream",
     "text": [
      "Temperature number:  -875\n",
      "Temperature unit measure (C or F):  F\n"
     ]
    },
    {
     "name": "stdout",
     "output_type": "stream",
     "text": [
      "-503.89  C\n"
     ]
    }
   ],
   "source": [
    "temperature = input('Temperature number: ')\n",
    "temp_unit_measure = input('Temperature unit measure (C or F): ')\n",
    "if temp_unit_measure == 'C':\n",
    "    temp_in_Fahrenheit = round(float(temperature) * 9/5 + 32, 2)\n",
    "    print(temp_in_Fahrenheit,' F')\n",
    "elif temp_unit_measure == 'F':\n",
    "    temp_in_Celsius  = round((float(temperature) - 32) * 5/9, 2)\n",
    "    print(temp_in_Celsius,' C')\n",
    "else: print('Incorrect temperature unit measure')"
   ]
  },
  {
   "cell_type": "code",
   "execution_count": null,
   "id": "17e212f8-543b-45a4-bd44-4a4f4d756313",
   "metadata": {},
   "outputs": [],
   "source": []
  }
 ],
 "metadata": {
  "kernelspec": {
   "display_name": "Python 3 (ipykernel)",
   "language": "python",
   "name": "python3"
  },
  "language_info": {
   "codemirror_mode": {
    "name": "ipython",
    "version": 3
   },
   "file_extension": ".py",
   "mimetype": "text/x-python",
   "name": "python",
   "nbconvert_exporter": "python",
   "pygments_lexer": "ipython3",
   "version": "3.11.7"
  }
 },
 "nbformat": 4,
 "nbformat_minor": 5
}
